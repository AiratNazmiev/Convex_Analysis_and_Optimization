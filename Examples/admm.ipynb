{
  "nbformat": 4,
  "nbformat_minor": 0,
  "metadata": {
    "colab": {
      "provenance": []
    },
    "kernelspec": {
      "name": "python3",
      "display_name": "Python 3"
    },
    "language_info": {
      "name": "python"
    }
  },
  "cells": [
    {
      "cell_type": "code",
      "execution_count": null,
      "metadata": {
        "id": "nhPtDPstPO8o"
      },
      "outputs": [],
      "source": [
        "import numpy as np\n",
        "import matplotlib.pyplot as plt"
      ]
    },
    {
      "cell_type": "markdown",
      "source": [
        "$$ \\min \\frac12 \\|Ax - b\\|_2^2 + \\lambda \\|x\\|_1 $$"
      ],
      "metadata": {
        "id": "K_PtwXziPj_D"
      }
    },
    {
      "cell_type": "code",
      "source": [
        "m = 100\n",
        "n = 1000\n",
        "A = np.random.randn(m, n)\n",
        "b = np.random.randn(m)\n",
        "lam = 10"
      ],
      "metadata": {
        "id": "A3pnLuRbQgWn"
      },
      "execution_count": null,
      "outputs": []
    },
    {
      "cell_type": "code",
      "source": [
        "def fista(grad, prox, alpha, x0, max_iter, lam):\n",
        "  conv = [x0.copy()]\n",
        "  x = x0.copy()\n",
        "  y = x0.copy()\n",
        "  for i in range(max_iter):\n",
        "    x_next = prox(y - alpha * grad(y), lam*alpha)\n",
        "    y = x_next + (i+1) / (i+4) * (x_next - x)\n",
        "    x = x_next.copy()\n",
        "    conv.append(x.copy())\n",
        "  return x, conv"
      ],
      "metadata": {
        "id": "GFTUuqIBPecF"
      },
      "execution_count": null,
      "outputs": []
    },
    {
      "cell_type": "markdown",
      "source": [
        "$$prox_{\\alpha |\\cdot|}(y) = \\begin{cases} 0, & |y| < \\alpha \\\\ y + \\alpha, & y < -\\alpha \\\\ y - \\alpha, & y > \\alpha \\end{cases}$$"
      ],
      "metadata": {
        "id": "8CEzqEAlQsUh"
      }
    },
    {
      "cell_type": "code",
      "source": [
        "def grad(x):\n",
        "  return A.T @ (A @ x - b)\n",
        "\n",
        "def prox(x, alpha):\n",
        "  return np.sign(x) * np.maximum(np.abs(x) - alpha, 0)"
      ],
      "metadata": {
        "id": "U0LYIa2SQVyu"
      },
      "execution_count": null,
      "outputs": []
    },
    {
      "cell_type": "code",
      "source": [
        "x0 = np.random.randn(n)"
      ],
      "metadata": {
        "id": "ToPPjTU6Saq1"
      },
      "execution_count": null,
      "outputs": []
    },
    {
      "cell_type": "code",
      "source": [
        "x_fista, conv_fista = fista(grad, prox, 1e-4, x0, 5000, lam)"
      ],
      "metadata": {
        "id": "sl8kvAzfSTfB"
      },
      "execution_count": null,
      "outputs": []
    },
    {
      "cell_type": "code",
      "source": [
        "import time\n",
        "\n",
        "st = time.time()\n",
        "fista(grad, prox, 1e-4, x0, 400, lam)\n",
        "print(time.time() - st)"
      ],
      "metadata": {
        "colab": {
          "base_uri": "https://localhost:8080/"
        },
        "id": "miew5-oQyLDB",
        "outputId": "4a437233-64ff-41da-c97c-3b3532c46e74"
      },
      "execution_count": null,
      "outputs": [
        {
          "output_type": "stream",
          "name": "stdout",
          "text": [
            "0.16976451873779297\n"
          ]
        }
      ]
    },
    {
      "cell_type": "code",
      "source": [
        "plt.plot([lam * np.linalg.norm(x, 1) + 0.5 * (A @ x - b)@(A @ x - b) for x in conv_fista])\n",
        "plt.yscale(\"log\")"
      ],
      "metadata": {
        "colab": {
          "base_uri": "https://localhost:8080/",
          "height": 430
        },
        "id": "SOVKRThbSfPC",
        "outputId": "4a763280-ca26-42d3-e98f-a89c7c84c621"
      },
      "execution_count": null,
      "outputs": [
        {
          "output_type": "display_data",
          "data": {
            "text/plain": [
              "<Figure size 640x480 with 1 Axes>"
            ],
            "image/png": "[encoded data removed]"
          },
          "metadata": {}
        }
      ]
    },
    {
      "cell_type": "code",
      "source": [
        "plt.plot(np.abs(x_fista))\n",
        "plt.yscale('log')"
      ],
      "metadata": {
        "colab": {
          "base_uri": "https://localhost:8080/",
          "height": 430
        },
        "id": "RAsgKHhnS5uW",
        "outputId": "f1d238ae-6463-4bfd-8426-3677bb8351bd"
      },
      "execution_count": null,
      "outputs": [
        {
          "output_type": "display_data",
          "data": {
            "text/plain": [
              "<Figure size 640x480 with 1 Axes>"
            ],
            "image/png": "[encoded data removed]"
          },
          "metadata": {}
        }
      ]
    },
    {
      "cell_type": "code",
      "source": [
        "def admm(update_x, update_z, x0, max_iter, rho):\n",
        "  x = x0.copy()\n",
        "  z = x.copy()\n",
        "  mu = np.zeros(x.shape[0])\n",
        "  conv_x = [x0.copy()]\n",
        "  for i in range(max_iter):\n",
        "    x = update_x(x, z, mu, rho)\n",
        "    z = update_z(x, z, mu, rho)\n",
        "    mu = mu + rho * (x - z)\n",
        "    rho *= 1.3\n",
        "    conv_x.append(x.copy())\n",
        "  return x, conv_x"
      ],
      "metadata": {
        "id": "4_RkojDQTQ8T"
      },
      "execution_count": null,
      "outputs": []
    },
    {
      "cell_type": "code",
      "source": [
        "ATA = A.T @ A\n",
        "AAT = A @ A.T\n",
        "ATb = A.T @ b\n",
        "def update_x(x, z, mu, rho):\n",
        "  return np.linalg.solve(ATA + rho * np.eye(A.shape[1]), -mu + rho * z + ATb)\n",
        "\n",
        "def update_x_fast(x, z, mu, rho):\n",
        "  rhs = -mu + rho * z + ATb\n",
        "  mat = np.eye(A.shape[0]) + AAT / rho\n",
        "  return (rhs - A.T @ (np.linalg.solve(mat, A @ rhs / rho))) / rho\n",
        "\n",
        "def update_z(x, z, mu, rho):\n",
        "  y = x + mu / rho\n",
        "  return prox(y, lam / rho)\n",
        "\n"
      ],
      "metadata": {
        "id": "2n9iOk52WFXB"
      },
      "execution_count": null,
      "outputs": []
    },
    {
      "cell_type": "code",
      "source": [
        "rho = 1\n",
        "x_admm, conv_admm = admm(update_x_fast, update_z, x0, 100, rho)"
      ],
      "metadata": {
        "id": "pJd7-xadXE5x"
      },
      "execution_count": null,
      "outputs": []
    },
    {
      "cell_type": "code",
      "source": [
        "st = time.time()\n",
        "admm(update_x_fast, update_z, x0, 100, rho)\n",
        "print(time.time() - st)"
      ],
      "metadata": {
        "colab": {
          "base_uri": "https://localhost:8080/"
        },
        "id": "WXxKkk2AyVa3",
        "outputId": "7ff5ead4-48a1-4714-b405-4515a83001b4"
      },
      "execution_count": null,
      "outputs": [
        {
          "output_type": "stream",
          "name": "stdout",
          "text": [
            "0.04944038391113281\n"
          ]
        }
      ]
    },
    {
      "cell_type": "code",
      "source": [
        "plt.plot([lam * np.linalg.norm(x, 1) + 0.5 * (A @ x - b)@(A @ x - b) for x in conv_fista[:600]],label=\"Fista\")\n",
        "plt.plot([lam * np.linalg.norm(x, 1) + 0.5 * (A @ x - b)@(A @ x - b) for x in conv_admm], label=\"Admm\")\n",
        "plt.legend()\n",
        "plt.yscale(\"log\")"
      ],
      "metadata": {
        "colab": {
          "base_uri": "https://localhost:8080/",
          "height": 430
        },
        "id": "mFVXyeGVXLj8",
        "outputId": "2200b69e-2b0a-4615-9e95-065268af3aa7"
      },
      "execution_count": null,
      "outputs": [
        {
          "output_type": "display_data",
          "data": {
            "text/plain": [
              "<Figure size 640x480 with 1 Axes>"
            ],
            "image/png": "[encoded data removed]"
          },
          "metadata": {}
        }
      ]
    },
    {
      "cell_type": "code",
      "source": [],
      "metadata": {
        "id": "1d-5cFHgXzWb"
      },
      "execution_count": null,
      "outputs": []
    }
  ]
}