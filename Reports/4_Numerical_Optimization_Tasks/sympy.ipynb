{
 "cells": [
  {
   "cell_type": "code",
   "execution_count": 2,
   "metadata": {},
   "outputs": [],
   "source": [
    "import sympy as sym"
   ]
  },
  {
   "cell_type": "code",
   "execution_count": 3,
   "metadata": {},
   "outputs": [
    {
     "data": {
      "text/latex": [
       "$\\displaystyle Q^{T} z z^{T} Q$"
      ],
      "text/plain": [
       "Q.T*z*z.T*Q"
      ]
     },
     "execution_count": 3,
     "metadata": {},
     "output_type": "execute_result"
    }
   ],
   "source": [
    "n = 5\n",
    "\n",
    "#M = sym.MatrixSymbol('M', n, n)\n",
    "Q = sym.MatrixSymbol('Q', n, n)\n",
    "L = sym.MatrixSymbol(r'\\Lambda', n, n)\n",
    "z = sym.MatrixSymbol('z', n, 1)\n",
    "\n",
    "M = Q @ L @ Q.T\n",
    "f = z.T @ M @ z\n",
    "f.diff(L)"
   ]
  },
  {
   "cell_type": "code",
   "execution_count": 29,
   "metadata": {},
   "outputs": [
    {
     "data": {
      "text/latex": [
       "$\\displaystyle \\left[\\begin{matrix}\\frac{a^{2}}{\\left(a^{2} + \\left(x - y\\right)^{2}\\right)^{\\frac{3}{2}}} & - \\frac{a^{2}}{\\left(a^{2} + \\left(x - y\\right)^{2}\\right)^{\\frac{3}{2}}}\\\\- \\frac{a^{2}}{\\left(a^{2} + \\left(x - y\\right)^{2}\\right)^{\\frac{3}{2}}} & \\frac{a^{2}}{\\left(a^{2} + \\left(x - y\\right)^{2}\\right)^{\\frac{3}{2}}}\\end{matrix}\\right]$"
      ],
      "text/plain": [
       "Matrix([\n",
       "[ a**2/(a**2 + (x - y)**2)**(3/2), -a**2/(a**2 + (x - y)**2)**(3/2)],\n",
       "[-a**2/(a**2 + (x - y)**2)**(3/2),  a**2/(a**2 + (x - y)**2)**(3/2)]])"
      ]
     },
     "execution_count": 29,
     "metadata": {},
     "output_type": "execute_result"
    }
   ],
   "source": [
    "x, y, z, a = sym.symbols('x y z a')\n",
    "func = sym.sqrt(a**2 + (x-y)**2) \n",
    "H = sym.hessian(func, (x, y))\n",
    "H.simplify()\n",
    "H"
   ]
  },
  {
   "cell_type": "code",
   "execution_count": 31,
   "metadata": {},
   "outputs": [
    {
     "data": {
      "text/latex": [
       "$\\displaystyle \\frac{- x + y}{\\sqrt{a^{2} + \\left(x - y\\right)^{2}}}$"
      ],
      "text/plain": [
       "(-x + y)/sqrt(a**2 + (x - y)**2)"
      ]
     },
     "execution_count": 31,
     "metadata": {},
     "output_type": "execute_result"
    }
   ],
   "source": [
    "func.diff(y)"
   ]
  },
  {
   "cell_type": "code",
   "execution_count": 26,
   "metadata": {},
   "outputs": [
    {
     "data": {
      "text/latex": [
       "$\\displaystyle 0$"
      ],
      "text/plain": [
       "0"
      ]
     },
     "execution_count": 26,
     "metadata": {},
     "output_type": "execute_result"
    }
   ],
   "source": [
    "H.det()"
   ]
  },
  {
   "cell_type": "code",
   "execution_count": 27,
   "metadata": {},
   "outputs": [
    {
     "data": {
      "text/latex": [
       "$\\displaystyle \\frac{a^{2}}{\\left(a^{2} + \\left(x - y\\right)^{2}\\right)^{\\frac{3}{2}}}$"
      ],
      "text/plain": [
       "a**2/(a**2 + (x - y)**2)**(3/2)"
      ]
     },
     "execution_count": 27,
     "metadata": {},
     "output_type": "execute_result"
    }
   ],
   "source": [
    "H[0,0]"
   ]
  },
  {
   "cell_type": "code",
   "execution_count": 96,
   "metadata": {},
   "outputs": [],
   "source": [
    "import numpy as np\n",
    "import scipy as sp\n",
    "\n",
    "def BFGS(\n",
    "    grad,\n",
    "    loss,\n",
    "    x_0,\n",
    "    max_iter=1000,\n",
    "    tol=0.\n",
    "):  \n",
    "    N = len(x_0)\n",
    "    H_k = np.eye(N)\n",
    "    x_k = x_0.copy()\n",
    "    g_k = grad(x_k)\n",
    "    \n",
    "    for k in range(max_iter):\n",
    "        h_k = - H_k @ g_k\n",
    "        \n",
    "        alpha_k = sp.optimize.line_search(loss, grad, x_k, h_k)[0]\n",
    "        \n",
    "        x_k_1 = x_k + alpha_k * h_k\n",
    "        \n",
    "        s_k = x_k_1 - x_k\n",
    "        \n",
    "        g_k_1 = grad(x_k_1)\n",
    "        \n",
    "        y_k = g_k_1 - g_k\n",
    "        \n",
    "        rho_k = 1./(y_k @ s_k)\n",
    "        H_k_1 = H_k - rho_k * (\n",
    "            np.einsum('i,j,jk->ik', s_k, y_k, H_k, optimize='optimal') + \n",
    "            np.einsum('ij,j,k->ik', H_k, y_k, s_k, optimize='optimal') - \n",
    "            rho_k * np.einsum('i,j,jk,k,l->il', s_k, y_k, H_k, y_k, s_k, optimize='optimal') -\n",
    "            np.outer(s_k, s_k))\n",
    "        \n",
    "        x_k = x_k_1\n",
    "        g_k = g_k_1\n",
    "        H_k = H_k_1\n",
    "        \n",
    "        if np.linalg.norm(g_k) < tol:\n",
    "            break\n",
    "        \n",
    "    return x_k\n",
    "\n",
    "\n",
    "def bfgs_method(f, fprime, x0, maxiter=None, epsi=10e-3):\n",
    "    \"\"\"\n",
    "    Minimize a function func using the BFGS algorithm.\n",
    "    \n",
    "    Parameters\n",
    "    ----------\n",
    "    func : f(x)\n",
    "        Function to minimise.\n",
    "    x0 : ndarray\n",
    "        Initial guess.\n",
    "    fprime : fprime(x)\n",
    "        The gradient of `func`.\n",
    "    \"\"\"\n",
    "    \n",
    "    if maxiter is None:\n",
    "        maxiter = len(x0) * 200\n",
    "\n",
    "    # initial values\n",
    "    k = 0\n",
    "    gfk = fprime(x0)\n",
    "    N = len(x0)\n",
    "    # Set the Identity matrix I.\n",
    "    I = np.eye(N, dtype=int)\n",
    "    Hk = I\n",
    "    xk = x0\n",
    "   \n",
    "    while np.linalg.norm(gfk) > epsi and k < maxiter:\n",
    "        \n",
    "        # pk - direction of search\n",
    "        \n",
    "        pk = -np.dot(Hk, gfk)\n",
    "        \n",
    "        # Line search constants for the Wolfe conditions.\n",
    "        # Repeating the line search\n",
    "        \n",
    "        # line_search returns not only alpha\n",
    "        # but only this value is interesting for us\n",
    "\n",
    "        line_search = sp.optimize.line_search(f, fprime, xk, pk)\n",
    "        alpha_k = line_search[0]\n",
    "        \n",
    "        xkp1 = xk + alpha_k * pk\n",
    "        sk = xkp1 - xk\n",
    "        xk = xkp1\n",
    "        \n",
    "        gfkp1 = fprime(xkp1)\n",
    "        yk = gfkp1 - gfk\n",
    "        gfk = gfkp1\n",
    "        \n",
    "        k += 1\n",
    "        \n",
    "        ro = 1.0 / (np.dot(yk, sk))\n",
    "        #print(ro)\n",
    "        A1 = I - ro * sk[:, np.newaxis] * yk[np.newaxis, :]\n",
    "        A2 = I - ro * yk[:, np.newaxis] * sk[np.newaxis, :]\n",
    "        Hk = np.dot(A1, np.dot(Hk, A2)) + (ro * sk[:, np.newaxis] *\n",
    "                                                 sk[np.newaxis, :])\n",
    "        \n",
    "    return (xk, k)\n",
    "        "
   ]
  },
  {
   "cell_type": "code",
   "execution_count": 97,
   "metadata": {},
   "outputs": [],
   "source": [
    "def f(x):\n",
    "    return x[0]**2 - x[0]*x[1] + x[1]**2 + 9*x[0] - 6*x[1] + 20\n",
    "\n",
    "\n",
    "# Derivative\n",
    "def f1(x):\n",
    "    return np.array([2 * x[0] - x[1] + 9, -x[0] + 2*x[1] - 6])"
   ]
  },
  {
   "cell_type": "code",
   "execution_count": 101,
   "metadata": {},
   "outputs": [
    {
     "name": "stdout",
     "output_type": "stream",
     "text": [
      "163 μs ± 3.74 μs per loop (mean ± std. dev. of 7 runs, 10,000 loops each)\n"
     ]
    }
   ],
   "source": [
    "%%timeit\n",
    "bfgs_method(f, f1, np.array([1., 1.]), epsi=1e-8)"
   ]
  },
  {
   "cell_type": "code",
   "execution_count": 100,
   "metadata": {},
   "outputs": [
    {
     "name": "stdout",
     "output_type": "stream",
     "text": [
      "2.86 ms ± 148 μs per loop (mean ± std. dev. of 7 runs, 100 loops each)\n"
     ]
    }
   ],
   "source": [
    "%%timeit\n",
    "BFGS(\n",
    "    grad=f1,\n",
    "    loss=f,\n",
    "    x_0=np.array([1., 1.]),\n",
    "    tol=1e-8\n",
    ")"
   ]
  },
  {
   "cell_type": "code",
   "execution_count": 45,
   "metadata": {},
   "outputs": [
    {
     "data": {
      "text/plain": [
       "(-11.578446687712411, -11.578446687712411)"
      ]
     },
     "execution_count": 45,
     "metadata": {},
     "output_type": "execute_result"
    }
   ],
   "source": [
    "x = np.random.randn(5)\n",
    "y = np.random.randn(5)\n",
    "A = np.random.randn(5, 5)\n",
    "np.einsum('i,ij,j->', x, A, y), x.T @ A @ y"
   ]
  }
 ],
 "metadata": {
  "kernelspec": {
   "display_name": "python312",
   "language": "python",
   "name": "python3"
  },
  "language_info": {
   "codemirror_mode": {
    "name": "ipython",
    "version": 3
   },
   "file_extension": ".py",
   "mimetype": "text/x-python",
   "name": "python",
   "nbconvert_exporter": "python",
   "pygments_lexer": "ipython3",
   "version": "3.12.5"
  }
 },
 "nbformat": 4,
 "nbformat_minor": 2
}
